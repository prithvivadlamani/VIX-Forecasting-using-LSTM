{
  "nbformat": 4,
  "nbformat_minor": 0,
  "metadata": {
    "colab": {
      "provenance": []
    },
    "kernelspec": {
      "name": "python3",
      "display_name": "Python 3"
    },
    "language_info": {
      "name": "python"
    },
    "accelerator": "GPU",
    "gpuClass": "standard"
  },
  "cells": [
    {
      "cell_type": "markdown",
      "source": [
        "**Name: Prithvi Vadlamani**\n",
        "\n",
        "**CWID: 10476457**\n",
        "\n"
      ],
      "metadata": {
        "id": "RG3Dp7IHSiXc"
      }
    },
    {
      "cell_type": "code",
      "execution_count": 33,
      "metadata": {
        "id": "_GY2BvOKDTa8"
      },
      "outputs": [],
      "source": [
        "import matplotlib.pyplot as plt\n",
        "import numpy as np\n",
        "import time\n",
        "from keras.layers.core import Dense, Activation, Dropout\n",
        "from keras.layers import LSTM\n",
        "from keras.models import Sequential"
      ]
    },
    {
      "cell_type": "code",
      "source": [
        "def convertSeriesToMatrix(vectorSeries, sequence_length):\n",
        "    matrix=[]\n",
        "    for i in range(len(vectorSeries)-sequence_length+1):\n",
        "        matrix.append(vectorSeries[i:i+sequence_length])\n",
        "    return matrix"
      ],
      "metadata": {
        "id": "3AwimgrpDcSU"
      },
      "execution_count": 34,
      "outputs": []
    },
    {
      "cell_type": "code",
      "source": [
        "np.random.seed(1234)"
      ],
      "metadata": {
        "id": "J0WLa3LCEHTd"
      },
      "execution_count": 35,
      "outputs": []
    },
    {
      "cell_type": "code",
      "source": [
        "path_to_dataset = 'VIX_2000_Present.csv'\n",
        "sequence_length = 20"
      ],
      "metadata": {
        "id": "_Wg6QW4REJ8T"
      },
      "execution_count": 59,
      "outputs": []
    },
    {
      "cell_type": "code",
      "source": [
        "vector_vix = []\n",
        "with open(path_to_dataset) as f:\n",
        "    next(f) \n",
        "    for line in f:\n",
        "        fields = line.split(',')\n",
        "        vector_vix.append(float(fields[5]))"
      ],
      "metadata": {
        "id": "VmskQRcBEPpA"
      },
      "execution_count": 60,
      "outputs": []
    },
    {
      "cell_type": "code",
      "source": [
        "matrix_vix = convertSeriesToMatrix(vector_vix, sequence_length)"
      ],
      "metadata": {
        "id": "Xs54qhKhES-h"
      },
      "execution_count": 38,
      "outputs": []
    },
    {
      "cell_type": "code",
      "source": [
        "# shift data by mean\n",
        "matrix_vix = np.array(matrix_vix)\n",
        "shifted_value = matrix_vix.mean()\n",
        "matrix_vix -= shifted_value\n",
        "print(\"Data  shape: \", matrix_vix.shape)"
      ],
      "metadata": {
        "colab": {
          "base_uri": "https://localhost:8080/"
        },
        "id": "J_XvBsevEd9r",
        "outputId": "6e8c8d58-4e04-47ed-cb59-fec21e095ef1"
      },
      "execution_count": 39,
      "outputs": [
        {
          "output_type": "stream",
          "name": "stdout",
          "text": [
            "Data  shape:  (5759, 20)\n"
          ]
        }
      ]
    },
    {
      "cell_type": "code",
      "source": [
        "train_row = int(round(0.9 * matrix_vix.shape[0]))\n",
        "train_set = matrix_vix[:train_row, :]"
      ],
      "metadata": {
        "id": "Jlk-5m1eEyHt"
      },
      "execution_count": 40,
      "outputs": []
    },
    {
      "cell_type": "code",
      "source": [
        "# shuffle the training set \n",
        "np.random.shuffle(train_set)\n",
        "# the training set\n",
        "X_train = train_set[:, :-1]\n",
        "# the last column is the true value to compute the mean-squared-error loss\n",
        "y_train = train_set[:, -1] \n",
        "# the test set\n",
        "X_test = matrix_vix[train_row:, :-1]\n",
        "y_test = matrix_vix[train_row:, -1]"
      ],
      "metadata": {
        "id": "TAJNMZxDE4zb"
      },
      "execution_count": 41,
      "outputs": []
    },
    {
      "cell_type": "code",
      "source": [
        "# the input to LSTM layer needs to have the shape of (number of samples, the dimension of each element)\n",
        "X_train = np.reshape(X_train, (X_train.shape[0], X_train.shape[1], 1))\n",
        "X_test = np.reshape(X_test, (X_test.shape[0], X_test.shape[1], 1))\n"
      ],
      "metadata": {
        "id": "2bCdqr6tE733"
      },
      "execution_count": 42,
      "outputs": []
    },
    {
      "cell_type": "code",
      "source": [
        "from keras.backend import tanh\n",
        "# build the model\n",
        "model = Sequential()\n",
        "# layer 1: LSTM\n",
        "model.add(LSTM(units=1, activation = 'tanh', return_sequences=True))\n",
        "model.add(Dropout(0.4))\n",
        "# layer 2: LSTM\n",
        "model.add(LSTM(units=50, return_sequences=False))\n",
        "model.add(Dropout(0.4))\n",
        "# layer 3: dense\n",
        "# linear activation: a(x) = x\n",
        "model.add(Dense(units=1, activation='linear'))\n",
        "# compile the model\n",
        "model.compile(loss=\"mse\", optimizer=\"rmsprop\")"
      ],
      "metadata": {
        "id": "DCqDYtNzE-Oo"
      },
      "execution_count": 63,
      "outputs": []
    },
    {
      "cell_type": "code",
      "source": [
        "model.fit(X_train, y_train, batch_size=512, epochs=50, validation_split=0.05)\n"
      ],
      "metadata": {
        "colab": {
          "base_uri": "https://localhost:8080/"
        },
        "id": "esWCj2veFBMX",
        "outputId": "050d1023-7ca5-4e63-fc8b-5910caf7d673"
      },
      "execution_count": 64,
      "outputs": [
        {
          "output_type": "stream",
          "name": "stdout",
          "text": [
            "Epoch 1/50\n",
            "10/10 [==============================] - 4s 76ms/step - loss: 76.4694 - val_loss: 42.3443\n",
            "Epoch 2/50\n",
            "10/10 [==============================] - 0s 9ms/step - loss: 59.9383 - val_loss: 34.2797\n",
            "Epoch 3/50\n",
            "10/10 [==============================] - 0s 9ms/step - loss: 51.9595 - val_loss: 31.2192\n",
            "Epoch 4/50\n",
            "10/10 [==============================] - 0s 9ms/step - loss: 47.9986 - val_loss: 29.9955\n",
            "Epoch 5/50\n",
            "10/10 [==============================] - 0s 11ms/step - loss: 46.3198 - val_loss: 29.0258\n",
            "Epoch 6/50\n",
            "10/10 [==============================] - 0s 9ms/step - loss: 43.7925 - val_loss: 26.5912\n",
            "Epoch 7/50\n",
            "10/10 [==============================] - 0s 9ms/step - loss: 41.7875 - val_loss: 24.8884\n",
            "Epoch 8/50\n",
            "10/10 [==============================] - 0s 9ms/step - loss: 40.6780 - val_loss: 25.9402\n",
            "Epoch 9/50\n",
            "10/10 [==============================] - 0s 10ms/step - loss: 39.1516 - val_loss: 23.3011\n",
            "Epoch 10/50\n",
            "10/10 [==============================] - 0s 9ms/step - loss: 38.4982 - val_loss: 23.3502\n",
            "Epoch 11/50\n",
            "10/10 [==============================] - 0s 9ms/step - loss: 38.0782 - val_loss: 21.5612\n",
            "Epoch 12/50\n",
            "10/10 [==============================] - 0s 10ms/step - loss: 36.9330 - val_loss: 21.0528\n",
            "Epoch 13/50\n",
            "10/10 [==============================] - 0s 9ms/step - loss: 36.2653 - val_loss: 20.0183\n",
            "Epoch 14/50\n",
            "10/10 [==============================] - 0s 11ms/step - loss: 35.8420 - val_loss: 19.7191\n",
            "Epoch 15/50\n",
            "10/10 [==============================] - 0s 9ms/step - loss: 34.7584 - val_loss: 19.4089\n",
            "Epoch 16/50\n",
            "10/10 [==============================] - 0s 9ms/step - loss: 33.5165 - val_loss: 20.8832\n",
            "Epoch 17/50\n",
            "10/10 [==============================] - 0s 9ms/step - loss: 33.0297 - val_loss: 19.1589\n",
            "Epoch 18/50\n",
            "10/10 [==============================] - 0s 9ms/step - loss: 33.7338 - val_loss: 19.3619\n",
            "Epoch 19/50\n",
            "10/10 [==============================] - 0s 9ms/step - loss: 33.1696 - val_loss: 20.1697\n",
            "Epoch 20/50\n",
            "10/10 [==============================] - 0s 9ms/step - loss: 32.8709 - val_loss: 19.9958\n",
            "Epoch 21/50\n",
            "10/10 [==============================] - 0s 9ms/step - loss: 30.9887 - val_loss: 18.6251\n",
            "Epoch 22/50\n",
            "10/10 [==============================] - 0s 10ms/step - loss: 31.3457 - val_loss: 17.7178\n",
            "Epoch 23/50\n",
            "10/10 [==============================] - 0s 9ms/step - loss: 31.2427 - val_loss: 21.1110\n",
            "Epoch 24/50\n",
            "10/10 [==============================] - 0s 10ms/step - loss: 31.4150 - val_loss: 17.9387\n",
            "Epoch 25/50\n",
            "10/10 [==============================] - 0s 10ms/step - loss: 30.9755 - val_loss: 18.3527\n",
            "Epoch 26/50\n",
            "10/10 [==============================] - 0s 9ms/step - loss: 30.1589 - val_loss: 17.5327\n",
            "Epoch 27/50\n",
            "10/10 [==============================] - 0s 9ms/step - loss: 30.3459 - val_loss: 17.1946\n",
            "Epoch 28/50\n",
            "10/10 [==============================] - 0s 10ms/step - loss: 29.4359 - val_loss: 18.6279\n",
            "Epoch 29/50\n",
            "10/10 [==============================] - 0s 9ms/step - loss: 29.1687 - val_loss: 16.7135\n",
            "Epoch 30/50\n",
            "10/10 [==============================] - 0s 9ms/step - loss: 28.8913 - val_loss: 17.7915\n",
            "Epoch 31/50\n",
            "10/10 [==============================] - 0s 9ms/step - loss: 28.4575 - val_loss: 17.0323\n",
            "Epoch 32/50\n",
            "10/10 [==============================] - 0s 10ms/step - loss: 29.1135 - val_loss: 16.8029\n",
            "Epoch 33/50\n",
            "10/10 [==============================] - 0s 9ms/step - loss: 28.0978 - val_loss: 18.6688\n",
            "Epoch 34/50\n",
            "10/10 [==============================] - 0s 9ms/step - loss: 29.1460 - val_loss: 19.4192\n",
            "Epoch 35/50\n",
            "10/10 [==============================] - 0s 9ms/step - loss: 27.3171 - val_loss: 17.7022\n",
            "Epoch 36/50\n",
            "10/10 [==============================] - 0s 9ms/step - loss: 27.7925 - val_loss: 15.3890\n",
            "Epoch 37/50\n",
            "10/10 [==============================] - 0s 9ms/step - loss: 27.2072 - val_loss: 15.8478\n",
            "Epoch 38/50\n",
            "10/10 [==============================] - 0s 11ms/step - loss: 26.7034 - val_loss: 20.8723\n",
            "Epoch 39/50\n",
            "10/10 [==============================] - 0s 9ms/step - loss: 26.2449 - val_loss: 16.3102\n",
            "Epoch 40/50\n",
            "10/10 [==============================] - 0s 10ms/step - loss: 25.4857 - val_loss: 18.0337\n",
            "Epoch 41/50\n",
            "10/10 [==============================] - 0s 9ms/step - loss: 27.1436 - val_loss: 17.9577\n",
            "Epoch 42/50\n",
            "10/10 [==============================] - 0s 9ms/step - loss: 25.9850 - val_loss: 16.9121\n",
            "Epoch 43/50\n",
            "10/10 [==============================] - 0s 9ms/step - loss: 25.1129 - val_loss: 15.8721\n",
            "Epoch 44/50\n",
            "10/10 [==============================] - 0s 9ms/step - loss: 24.9478 - val_loss: 20.3897\n",
            "Epoch 45/50\n",
            "10/10 [==============================] - 0s 9ms/step - loss: 25.2921 - val_loss: 17.6872\n",
            "Epoch 46/50\n",
            "10/10 [==============================] - 0s 10ms/step - loss: 25.5739 - val_loss: 16.5577\n",
            "Epoch 47/50\n",
            "10/10 [==============================] - 0s 9ms/step - loss: 23.7560 - val_loss: 15.3776\n",
            "Epoch 48/50\n",
            "10/10 [==============================] - 0s 9ms/step - loss: 23.8102 - val_loss: 18.6920\n",
            "Epoch 49/50\n",
            "10/10 [==============================] - 0s 9ms/step - loss: 24.6168 - val_loss: 15.2068\n",
            "Epoch 50/50\n",
            "10/10 [==============================] - 0s 9ms/step - loss: 23.2748 - val_loss: 14.6305\n"
          ]
        },
        {
          "output_type": "execute_result",
          "data": {
            "text/plain": [
              "<keras.callbacks.History at 0x7efe023c64c0>"
            ]
          },
          "metadata": {},
          "execution_count": 64
        }
      ]
    },
    {
      "cell_type": "code",
      "source": [
        "test_mse = model.evaluate(X_test, y_test, verbose=1)\n",
        "print('\\nThe mean squared error (MSE) on the test data set is %.5f over %d test samples.' % (test_mse, len(y_test)))"
      ],
      "metadata": {
        "colab": {
          "base_uri": "https://localhost:8080/"
        },
        "id": "LVvgmPPZGygg",
        "outputId": "caec826f-e80e-4b2b-f12b-e7e1a4dc33bd"
      },
      "execution_count": 65,
      "outputs": [
        {
          "output_type": "stream",
          "name": "stdout",
          "text": [
            "18/18 [==============================] - 0s 3ms/step - loss: 13.7629\n",
            "\n",
            "The mean squared error (MSE) on the test data set is 13.76285 over 576 test samples.\n"
          ]
        }
      ]
    },
    {
      "cell_type": "code",
      "source": [
        "# get the predicted values\n",
        "predicted_values = model.predict(X_test)\n",
        "num_test_samples = len(predicted_values)\n",
        "predicted_values = np.reshape(predicted_values, (num_test_samples,1))"
      ],
      "metadata": {
        "colab": {
          "base_uri": "https://localhost:8080/"
        },
        "id": "hs3y53LyIQdX",
        "outputId": "a781646a-897a-415e-8c87-bd1ce09962dd"
      },
      "execution_count": 66,
      "outputs": [
        {
          "output_type": "stream",
          "name": "stdout",
          "text": [
            "18/18 [==============================] - 1s 2ms/step\n"
          ]
        }
      ]
    },
    {
      "cell_type": "code",
      "source": [
        "fig = plt.figure()\n",
        "plt.plot(y_test + shifted_value)\n",
        "plt.plot(predicted_values + shifted_value)\n",
        "plt.xlabel('Date')\n",
        "plt.ylabel('VIX')\n",
        "plt.show()\n"
      ],
      "metadata": {
        "colab": {
          "base_uri": "https://localhost:8080/",
          "height": 279
        },
        "id": "WdmiGxJvIWgc",
        "outputId": "9c5aed72-7b44-46d3-c3e7-23c0dd478ab3"
      },
      "execution_count": 67,
      "outputs": [
        {
          "output_type": "display_data",
          "data": {
            "text/plain": [
              "<Figure size 432x288 with 1 Axes>"
            ],
            "image/png": "[encoded data removed]"
          },
          "metadata": {
            "needs_background": "light"
          }
        }
      ]
    },
    {
      "cell_type": "code",
      "source": [
        "fig.savefig('output_prediction.jpg', bbox_inches='tight')"
      ],
      "metadata": {
        "id": "VSLHWxl2M_zK"
      },
      "execution_count": 68,
      "outputs": []
    },
    {
      "cell_type": "code",
      "source": [],
      "metadata": {
        "id": "x5IyPRJVWnIp"
      },
      "execution_count": null,
      "outputs": []
    }
  ]
}